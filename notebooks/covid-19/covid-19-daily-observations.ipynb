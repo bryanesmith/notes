{
 "cells": [
  {
   "cell_type": "code",
   "execution_count": 70,
   "metadata": {},
   "outputs": [],
   "source": [
    "import glob\n",
    "import matplotlib.pyplot as plt\n",
    "import numpy as np\n",
    "import pandas as pd\n",
    "import re\n",
    "from typing import List"
   ]
  },
  {
   "cell_type": "code",
   "execution_count": 71,
   "metadata": {},
   "outputs": [],
   "source": [
    "%matplotlib inline\n",
    "%config InlineBackend.figure_format = 'retina'"
   ]
  },
  {
   "cell_type": "markdown",
   "metadata": {},
   "source": [
    "# COVID-19 Daily Observation Data\n",
    "\n",
    "Data from [2019 Novel Coronavirus COVID-19 (2019-nCoV) Data repository](https://github.com/CSSEGISandData/COVID-19) by Johns Hopkins CSSE.\n",
    "\n",
    "## Load data\n",
    "We're going to read in all of the data in the [csse_covid_19_daily_reports](https://github.com/CSSEGISandData/COVID-19/tree/master/csse_covid_19_data/csse_covid_19_daily_reports) directory, and aggregate it into a single `DataFrame`.\n",
    "\n",
    "First, the dates across the files aren't in a consistent format, so we need a utility to normalize our dates:"
   ]
  },
  {
   "cell_type": "code",
   "execution_count": 72,
   "metadata": {},
   "outputs": [],
   "source": [
    "def extract_month_day(date: str) -> str:\n",
    "    \"\"\"Given a date in multiple possible formats, return m/d formatted date.\"\"\"\n",
    "    patterns = [\n",
    "        r\"0?(\\d+)/0?(\\d+)/\\d{2,4} \\d{1,2}:\\d{2}\", # E.g., 1/22/2020 17:00, 01/22/2020 02:00\n",
    "        r\"\\d{4}-0?(\\d{1,2})-0?(\\d{1,2})[T\\s]\\d{2}:\\d{2}:\\d{2}\", # E.g., 2020-02-02T23:43:02, 2020-03-23 23:19:34\n",
    "    ]\n",
    "    for pattern in patterns:\n",
    "        vals = re.findall(pattern, date)\n",
    "        if vals:\n",
    "            return \"{}/{}\".format(vals[0][0],vals[0][1])\n",
    "    raise Exception(\"Failed to extract month/day, bad string format: {}\".format(date))\n",
    "\n",
    "assert extract_month_day(\"1/22/2020 17:00\") == \"1/22\"\n",
    "assert extract_month_day(\"01/22/2020 02:00\") == \"1/22\"\n",
    "assert extract_month_day(\"2020-02-02T23:43:02\") == \"2/2\"\n",
    "assert extract_month_day(\"2020-03-23 23:19:34\") == \"3/23\""
   ]
  },
  {
   "cell_type": "markdown",
   "metadata": {},
   "source": [
    "There are a couple more utilities we need to read in the data:"
   ]
  },
  {
   "cell_type": "code",
   "execution_count": 73,
   "metadata": {},
   "outputs": [],
   "source": [
    "def list_source_files(dir_name: str) -> List[str]: \n",
    "    \"\"\"Returns a list of all the source files.\"\"\"\n",
    "    pattern = r\"(\\d{2}-\\d{2}-\\d{4}).csv\"\n",
    "    src = \"{}/*.csv\".format(dir_name)\n",
    "    files = [f for f in glob.glob(src) if re.search(pattern, f)]\n",
    "    files.sort()\n",
    "    return files\n",
    "\n",
    "def read_combined_daily_data(file_names: List[str], rename_cols_map):\n",
    "    \"\"\"Reads in all the data, combines it in single DataFrame.\"\"\"\n",
    "    # Note handling inconsistent column names\n",
    "    dfs = [pd.read_csv(f).rename(columns=rename_cols_map) for f in files] \n",
    "    data = pd.concat(dfs)\n",
    "    return data"
   ]
  },
  {
   "cell_type": "markdown",
   "metadata": {},
   "source": [
    "Now we can read in the data, aggregate it, and clean it up:"
   ]
  },
  {
   "cell_type": "code",
   "execution_count": 75,
   "metadata": {},
   "outputs": [
    {
     "data": {
      "text/html": [
       "<div>\n",
       "<style scoped>\n",
       "    .dataframe tbody tr th:only-of-type {\n",
       "        vertical-align: middle;\n",
       "    }\n",
       "\n",
       "    .dataframe tbody tr th {\n",
       "        vertical-align: top;\n",
       "    }\n",
       "\n",
       "    .dataframe thead th {\n",
       "        text-align: right;\n",
       "    }\n",
       "</style>\n",
       "<table border=\"1\" class=\"dataframe\">\n",
       "  <thead>\n",
       "    <tr style=\"text-align: right;\">\n",
       "      <th></th>\n",
       "      <th>Province/State</th>\n",
       "      <th>Country/Region</th>\n",
       "      <th>Last Update</th>\n",
       "      <th>Date</th>\n",
       "      <th>Confirmed</th>\n",
       "      <th>Deaths</th>\n",
       "      <th>Recovered</th>\n",
       "    </tr>\n",
       "  </thead>\n",
       "  <tbody>\n",
       "    <tr>\n",
       "      <th>0</th>\n",
       "      <td>Anhui</td>\n",
       "      <td>Mainland China</td>\n",
       "      <td>1/22/2020 17:00</td>\n",
       "      <td>1/22</td>\n",
       "      <td>1.0</td>\n",
       "      <td>0.0</td>\n",
       "      <td>0.0</td>\n",
       "    </tr>\n",
       "    <tr>\n",
       "      <th>1</th>\n",
       "      <td>Beijing</td>\n",
       "      <td>Mainland China</td>\n",
       "      <td>1/22/2020 17:00</td>\n",
       "      <td>1/22</td>\n",
       "      <td>14.0</td>\n",
       "      <td>0.0</td>\n",
       "      <td>0.0</td>\n",
       "    </tr>\n",
       "    <tr>\n",
       "      <th>2</th>\n",
       "      <td>Chongqing</td>\n",
       "      <td>Mainland China</td>\n",
       "      <td>1/22/2020 17:00</td>\n",
       "      <td>1/22</td>\n",
       "      <td>6.0</td>\n",
       "      <td>0.0</td>\n",
       "      <td>0.0</td>\n",
       "    </tr>\n",
       "    <tr>\n",
       "      <th>3</th>\n",
       "      <td>Fujian</td>\n",
       "      <td>Mainland China</td>\n",
       "      <td>1/22/2020 17:00</td>\n",
       "      <td>1/22</td>\n",
       "      <td>1.0</td>\n",
       "      <td>0.0</td>\n",
       "      <td>0.0</td>\n",
       "    </tr>\n",
       "    <tr>\n",
       "      <th>5</th>\n",
       "      <td>Guangdong</td>\n",
       "      <td>Mainland China</td>\n",
       "      <td>1/22/2020 17:00</td>\n",
       "      <td>1/22</td>\n",
       "      <td>26.0</td>\n",
       "      <td>0.0</td>\n",
       "      <td>0.0</td>\n",
       "    </tr>\n",
       "    <tr>\n",
       "      <th>...</th>\n",
       "      <td>...</td>\n",
       "      <td>...</td>\n",
       "      <td>...</td>\n",
       "      <td>...</td>\n",
       "      <td>...</td>\n",
       "      <td>...</td>\n",
       "      <td>...</td>\n",
       "    </tr>\n",
       "    <tr>\n",
       "      <th>3416</th>\n",
       "      <td>NaN</td>\n",
       "      <td>Venezuela</td>\n",
       "      <td>2020-03-26 23:48:18</td>\n",
       "      <td>3/26</td>\n",
       "      <td>107.0</td>\n",
       "      <td>0.0</td>\n",
       "      <td>15.0</td>\n",
       "    </tr>\n",
       "    <tr>\n",
       "      <th>3417</th>\n",
       "      <td>NaN</td>\n",
       "      <td>Vietnam</td>\n",
       "      <td>2020-03-26 23:48:18</td>\n",
       "      <td>3/26</td>\n",
       "      <td>153.0</td>\n",
       "      <td>0.0</td>\n",
       "      <td>20.0</td>\n",
       "    </tr>\n",
       "    <tr>\n",
       "      <th>3418</th>\n",
       "      <td>NaN</td>\n",
       "      <td>West Bank and Gaza</td>\n",
       "      <td>2020-03-26 23:48:18</td>\n",
       "      <td>3/26</td>\n",
       "      <td>84.0</td>\n",
       "      <td>1.0</td>\n",
       "      <td>17.0</td>\n",
       "    </tr>\n",
       "    <tr>\n",
       "      <th>3419</th>\n",
       "      <td>NaN</td>\n",
       "      <td>Zambia</td>\n",
       "      <td>2020-03-26 23:48:18</td>\n",
       "      <td>3/26</td>\n",
       "      <td>16.0</td>\n",
       "      <td>0.0</td>\n",
       "      <td>0.0</td>\n",
       "    </tr>\n",
       "    <tr>\n",
       "      <th>3420</th>\n",
       "      <td>NaN</td>\n",
       "      <td>Zimbabwe</td>\n",
       "      <td>2020-03-26 23:48:18</td>\n",
       "      <td>3/26</td>\n",
       "      <td>3.0</td>\n",
       "      <td>1.0</td>\n",
       "      <td>0.0</td>\n",
       "    </tr>\n",
       "  </tbody>\n",
       "</table>\n",
       "<p>15603 rows × 7 columns</p>\n",
       "</div>"
      ],
      "text/plain": [
       "     Province/State      Country/Region          Last Update  Date  Confirmed  \\\n",
       "0             Anhui      Mainland China      1/22/2020 17:00  1/22        1.0   \n",
       "1           Beijing      Mainland China      1/22/2020 17:00  1/22       14.0   \n",
       "2         Chongqing      Mainland China      1/22/2020 17:00  1/22        6.0   \n",
       "3            Fujian      Mainland China      1/22/2020 17:00  1/22        1.0   \n",
       "5         Guangdong      Mainland China      1/22/2020 17:00  1/22       26.0   \n",
       "...             ...                 ...                  ...   ...        ...   \n",
       "3416            NaN           Venezuela  2020-03-26 23:48:18  3/26      107.0   \n",
       "3417            NaN             Vietnam  2020-03-26 23:48:18  3/26      153.0   \n",
       "3418            NaN  West Bank and Gaza  2020-03-26 23:48:18  3/26       84.0   \n",
       "3419            NaN              Zambia  2020-03-26 23:48:18  3/26       16.0   \n",
       "3420            NaN            Zimbabwe  2020-03-26 23:48:18  3/26        3.0   \n",
       "\n",
       "      Deaths  Recovered  \n",
       "0        0.0        0.0  \n",
       "1        0.0        0.0  \n",
       "2        0.0        0.0  \n",
       "3        0.0        0.0  \n",
       "5        0.0        0.0  \n",
       "...      ...        ...  \n",
       "3416     0.0       15.0  \n",
       "3417     0.0       20.0  \n",
       "3418     1.0       17.0  \n",
       "3419     0.0        0.0  \n",
       "3420     1.0        0.0  \n",
       "\n",
       "[15603 rows x 7 columns]"
      ]
     },
     "execution_count": 75,
     "metadata": {},
     "output_type": "execute_result"
    }
   ],
   "source": [
    "DIR = \"csse_covid_19_daily_reports\"\n",
    "\n",
    "RENAME_COLS = { 'Country_Region': 'Country/Region', 'Province_State': 'Province/State', \n",
    "          'Last_Update': 'Last Update'}\n",
    "\n",
    "# Read in data as single DataFrame\n",
    "files = list_source_files(DIR)\n",
    "data = read_combined_daily_data(files, RENAME_COLS)\n",
    "\n",
    "# Cleanup: select columns NaN -> 0\n",
    "NUMERIC_COLS = ['Confirmed', 'Deaths', 'Recovered']\n",
    "data[NUMERIC_COLS] = data[NUMERIC_COLS].fillna(0)\n",
    "    \n",
    "# Cleanup: drop anything without cases (removes an error for DC data)\n",
    "data = data[data['Confirmed'] > 0]\n",
    "\n",
    "# Cleanup: Augment data with normalized \"Date\" field\n",
    "data['Date'] = data['Last Update'].apply(extract_month_day)\n",
    "\n",
    "# TODO: we shouldn't need two date columns\n",
    "COLUMNS_TO_KEEP = ['Province/State', 'Country/Region', 'Last Update', 'Date', 'Confirmed', 'Deaths', 'Recovered']\n",
    "\n",
    "# Cleanup: remove unused columns\n",
    "data = data[COLUMNS_TO_KEEP]\n",
    "\n",
    "data"
   ]
  },
  {
   "cell_type": "markdown",
   "metadata": {},
   "source": [
    "## Region-specific cumulative data"
   ]
  },
  {
   "cell_type": "markdown",
   "metadata": {},
   "source": [
    "Hubei cumulative confirmed cases:"
   ]
  },
  {
   "cell_type": "code",
   "execution_count": 50,
   "metadata": {},
   "outputs": [
    {
     "data": {
      "image/png": "[encoded data removed]",
      "text/plain": [
       "<Figure size 432x288 with 1 Axes>"
      ]
     },
     "metadata": {
      "image/png": {
       "height": 248,
       "width": 388
      },
      "needs_background": "light"
     },
     "output_type": "display_data"
    }
   ],
   "source": [
    "dc = data.loc[data['Province/State'] == 'Hubei']\n",
    "plt.plot(dc['Date'], dc['Confirmed'])\n",
    "plt.show()"
   ]
  },
  {
   "cell_type": "markdown",
   "metadata": {},
   "source": [
    "DC cumulative confirmed cases:"
   ]
  },
  {
   "cell_type": "code",
   "execution_count": 51,
   "metadata": {},
   "outputs": [
    {
     "data": {
      "image/png": "[encoded data removed]",
      "text/plain": [
       "<Figure size 432x288 with 1 Axes>"
      ]
     },
     "metadata": {
      "image/png": {
       "height": 248,
       "width": 375
      },
      "needs_background": "light"
     },
     "output_type": "display_data"
    }
   ],
   "source": [
    "dc = data.loc[data['Province/State'] == 'District of Columbia']\n",
    "plt.plot(dc['Date'], dc['Confirmed'])\n",
    "plt.show()"
   ]
  },
  {
   "cell_type": "code",
   "execution_count": null,
   "metadata": {},
   "outputs": [],
   "source": []
  }
 ],
 "metadata": {
  "kernelspec": {
   "display_name": "Python 3",
   "language": "python",
   "name": "python3"
  },
  "language_info": {
   "codemirror_mode": {
    "name": "ipython",
    "version": 3
   },
   "file_extension": ".py",
   "mimetype": "text/x-python",
   "name": "python",
   "nbconvert_exporter": "python",
   "pygments_lexer": "ipython3",
   "version": "3.6.10"
  }
 },
 "nbformat": 4,
 "nbformat_minor": 4
}

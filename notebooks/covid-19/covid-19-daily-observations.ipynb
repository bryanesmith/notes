{
 "cells": [
  {
   "cell_type": "code",
   "execution_count": 144,
   "metadata": {},
   "outputs": [],
   "source": [
    "import glob\n",
    "import matplotlib.dates as mdates\n",
    "from matplotlib.dates import DateFormatter\n",
    "import matplotlib.dates as mdatesx\n",
    "import matplotlib.pyplot as plt\n",
    "import numpy as np\n",
    "import pandas as pd\n",
    "import re\n",
    "from typing import List"
   ]
  },
  {
   "cell_type": "code",
   "execution_count": 145,
   "metadata": {},
   "outputs": [],
   "source": [
    "%matplotlib inline\n",
    "%config InlineBackend.figure_format = 'retina'"
   ]
  },
  {
   "cell_type": "markdown",
   "metadata": {},
   "source": [
    "# COVID-19 Daily Observation Data\n",
    "\n",
    "Data from [2019 Novel Coronavirus COVID-19 (2019-nCoV) Data repository](https://github.com/CSSEGISandData/COVID-19) by Johns Hopkins CSSE.\n",
    "\n",
    "## Load data\n",
    "We're going to read in all of the data in the [csse_covid_19_daily_reports](https://github.com/CSSEGISandData/COVID-19/tree/master/csse_covid_19_data/csse_covid_19_daily_reports) directory, and aggregate it into a single `DataFrame`.\n",
    "\n",
    "First, the dates across the files aren't in a consistent format, so we need a utility to normalize our dates:"
   ]
  },
  {
   "cell_type": "code",
   "execution_count": 85,
   "metadata": {},
   "outputs": [],
   "source": [
    "def normalize_date(date: str) -> pd.Timestamp:\n",
    "    \"\"\"Converts various timestamps into consistent format.\"\"\"\n",
    "    return pd.Timestamp(date)\n",
    "\n",
    "assert extract_month_day(\"1/22/2020 17:00\") == pd.Timestamp(\"2020-01-22 17:00:00\")\n",
    "assert extract_month_day(\"01/22/2020 02:00\") == pd.Timestamp(\"2020-01-22 02:00:00\")\n",
    "assert extract_month_day(\"2020-02-02T23:43:02\") == pd.Timestamp(\"2020-02-02 23:43:02\")\n",
    "assert extract_month_day(\"2020-03-23 23:19:34\") == pd.Timestamp(\"2020-03-23 23:19:34\")"
   ]
  },
  {
   "cell_type": "markdown",
   "metadata": {},
   "source": [
    "There are a couple more utilities we need to read in the data:"
   ]
  },
  {
   "cell_type": "code",
   "execution_count": 108,
   "metadata": {},
   "outputs": [],
   "source": [
    "def list_source_files(dir_name: str) -> List[str]: \n",
    "    \"\"\"Returns a list of all the source files.\"\"\"\n",
    "    pattern = r\"(\\d{2}-\\d{2}-\\d{4}).csv\"\n",
    "    src = \"{}/*.csv\".format(dir_name)\n",
    "    return [f for f in glob.glob(src) if re.search(pattern, f)]\n",
    "\n",
    "def read_combined_daily_data(file_names: List[str], rename_cols_map):\n",
    "    \"\"\"Reads in all the data, combines it in single DataFrame.\"\"\"\n",
    "    # Note handling inconsistent column names\n",
    "    dfs = [pd.read_csv(f).rename(columns=rename_cols_map) for f in files] \n",
    "    data = pd.concat(dfs)\n",
    "    return data"
   ]
  },
  {
   "cell_type": "markdown",
   "metadata": {},
   "source": [
    "Now we can read in the data, aggregate it, and clean it up:"
   ]
  },
  {
   "cell_type": "code",
   "execution_count": 124,
   "metadata": {},
   "outputs": [
    {
     "data": {
      "text/html": [
       "<div>\n",
       "<style scoped>\n",
       "    .dataframe tbody tr th:only-of-type {\n",
       "        vertical-align: middle;\n",
       "    }\n",
       "\n",
       "    .dataframe tbody tr th {\n",
       "        vertical-align: top;\n",
       "    }\n",
       "\n",
       "    .dataframe thead th {\n",
       "        text-align: right;\n",
       "    }\n",
       "</style>\n",
       "<table border=\"1\" class=\"dataframe\">\n",
       "  <thead>\n",
       "    <tr style=\"text-align: right;\">\n",
       "      <th></th>\n",
       "      <th>Province/State</th>\n",
       "      <th>Country/Region</th>\n",
       "      <th>Confirmed</th>\n",
       "      <th>Deaths</th>\n",
       "      <th>Recovered</th>\n",
       "    </tr>\n",
       "    <tr>\n",
       "      <th>Last Update</th>\n",
       "      <th></th>\n",
       "      <th></th>\n",
       "      <th></th>\n",
       "      <th></th>\n",
       "      <th></th>\n",
       "    </tr>\n",
       "  </thead>\n",
       "  <tbody>\n",
       "    <tr>\n",
       "      <th>2020-01-22 17:00:00</th>\n",
       "      <td>Henan</td>\n",
       "      <td>Mainland China</td>\n",
       "      <td>5.0</td>\n",
       "      <td>0.0</td>\n",
       "      <td>0.0</td>\n",
       "    </tr>\n",
       "    <tr>\n",
       "      <th>2020-01-22 17:00:00</th>\n",
       "      <td>Zhejiang</td>\n",
       "      <td>Mainland China</td>\n",
       "      <td>10.0</td>\n",
       "      <td>0.0</td>\n",
       "      <td>0.0</td>\n",
       "    </tr>\n",
       "    <tr>\n",
       "      <th>2020-01-22 17:00:00</th>\n",
       "      <td>NaN</td>\n",
       "      <td>Japan</td>\n",
       "      <td>2.0</td>\n",
       "      <td>0.0</td>\n",
       "      <td>0.0</td>\n",
       "    </tr>\n",
       "    <tr>\n",
       "      <th>2020-01-22 17:00:00</th>\n",
       "      <td>Hebei</td>\n",
       "      <td>Mainland China</td>\n",
       "      <td>1.0</td>\n",
       "      <td>0.0</td>\n",
       "      <td>0.0</td>\n",
       "    </tr>\n",
       "    <tr>\n",
       "      <th>2020-01-22 17:00:00</th>\n",
       "      <td>NaN</td>\n",
       "      <td>Thailand</td>\n",
       "      <td>2.0</td>\n",
       "      <td>0.0</td>\n",
       "      <td>0.0</td>\n",
       "    </tr>\n",
       "    <tr>\n",
       "      <th>...</th>\n",
       "      <td>...</td>\n",
       "      <td>...</td>\n",
       "      <td>...</td>\n",
       "      <td>...</td>\n",
       "      <td>...</td>\n",
       "    </tr>\n",
       "    <tr>\n",
       "      <th>2020-03-26 23:53:24</th>\n",
       "      <td>South Australia</td>\n",
       "      <td>Australia</td>\n",
       "      <td>235.0</td>\n",
       "      <td>0.0</td>\n",
       "      <td>6.0</td>\n",
       "    </tr>\n",
       "    <tr>\n",
       "      <th>2020-03-26 23:53:24</th>\n",
       "      <td>Tasmania</td>\n",
       "      <td>Australia</td>\n",
       "      <td>47.0</td>\n",
       "      <td>0.0</td>\n",
       "      <td>3.0</td>\n",
       "    </tr>\n",
       "    <tr>\n",
       "      <th>2020-03-26 23:53:24</th>\n",
       "      <td>Victoria</td>\n",
       "      <td>Australia</td>\n",
       "      <td>520.0</td>\n",
       "      <td>3.0</td>\n",
       "      <td>149.0</td>\n",
       "    </tr>\n",
       "    <tr>\n",
       "      <th>2020-03-26 23:53:24</th>\n",
       "      <td>Australian Capital Territory</td>\n",
       "      <td>Australia</td>\n",
       "      <td>53.0</td>\n",
       "      <td>0.0</td>\n",
       "      <td>1.0</td>\n",
       "    </tr>\n",
       "    <tr>\n",
       "      <th>2020-03-26 23:53:24</th>\n",
       "      <td>Western Australia</td>\n",
       "      <td>Australia</td>\n",
       "      <td>231.0</td>\n",
       "      <td>2.0</td>\n",
       "      <td>1.0</td>\n",
       "    </tr>\n",
       "  </tbody>\n",
       "</table>\n",
       "<p>15603 rows × 5 columns</p>\n",
       "</div>"
      ],
      "text/plain": [
       "                                   Province/State  Country/Region  Confirmed  \\\n",
       "Last Update                                                                    \n",
       "2020-01-22 17:00:00                         Henan  Mainland China        5.0   \n",
       "2020-01-22 17:00:00                      Zhejiang  Mainland China       10.0   \n",
       "2020-01-22 17:00:00                           NaN           Japan        2.0   \n",
       "2020-01-22 17:00:00                         Hebei  Mainland China        1.0   \n",
       "2020-01-22 17:00:00                           NaN        Thailand        2.0   \n",
       "...                                           ...             ...        ...   \n",
       "2020-03-26 23:53:24               South Australia       Australia      235.0   \n",
       "2020-03-26 23:53:24                      Tasmania       Australia       47.0   \n",
       "2020-03-26 23:53:24                      Victoria       Australia      520.0   \n",
       "2020-03-26 23:53:24  Australian Capital Territory       Australia       53.0   \n",
       "2020-03-26 23:53:24             Western Australia       Australia      231.0   \n",
       "\n",
       "                     Deaths  Recovered  \n",
       "Last Update                             \n",
       "2020-01-22 17:00:00     0.0        0.0  \n",
       "2020-01-22 17:00:00     0.0        0.0  \n",
       "2020-01-22 17:00:00     0.0        0.0  \n",
       "2020-01-22 17:00:00     0.0        0.0  \n",
       "2020-01-22 17:00:00     0.0        0.0  \n",
       "...                     ...        ...  \n",
       "2020-03-26 23:53:24     0.0        6.0  \n",
       "2020-03-26 23:53:24     0.0        3.0  \n",
       "2020-03-26 23:53:24     3.0      149.0  \n",
       "2020-03-26 23:53:24     0.0        1.0  \n",
       "2020-03-26 23:53:24     2.0        1.0  \n",
       "\n",
       "[15603 rows x 5 columns]"
      ]
     },
     "execution_count": 124,
     "metadata": {},
     "output_type": "execute_result"
    }
   ],
   "source": [
    "DIR = \"csse_covid_19_daily_reports\"\n",
    "\n",
    "RENAME_COLS = { 'Country_Region': 'Country/Region', 'Province_State': 'Province/State', \n",
    "          'Last_Update': 'Last Update'}\n",
    "\n",
    "# Read in data as single DataFrame\n",
    "files = list_source_files(DIR)\n",
    "data = read_combined_daily_data(files, RENAME_COLS)\n",
    "\n",
    "# Cleanup: select columns NaN -> 0\n",
    "NUMERIC_COLS = ['Confirmed', 'Deaths', 'Recovered']\n",
    "data[NUMERIC_COLS] = data[NUMERIC_COLS].fillna(0)\n",
    "    \n",
    "# Cleanup: drop anything without cases (removes an error for DC data)\n",
    "data = data[data['Confirmed'] > 0]\n",
    "\n",
    "# Cleanup: Augment data with normalized \"Date\" field\n",
    "data['Last Update'] = data['Last Update'].apply(normalize_date)\n",
    "\n",
    "COLUMNS_TO_KEEP = ['Province/State', 'Country/Region', 'Last Update', 'Confirmed', 'Deaths', 'Recovered']\n",
    "\n",
    "# Cleanup: remove unused columns\n",
    "data = data[COLUMNS_TO_KEEP]\n",
    "\n",
    "# This is time series data, so update index and sort\n",
    "data = data.set_index('Last Update')\n",
    "data = data.sort_values(by=['Last Update'])\n",
    "\n",
    "data"
   ]
  },
  {
   "cell_type": "markdown",
   "metadata": {},
   "source": [
    "We should be able to access data using date ranges:"
   ]
  },
  {
   "cell_type": "code",
   "execution_count": 125,
   "metadata": {},
   "outputs": [
    {
     "data": {
      "text/html": [
       "<div>\n",
       "<style scoped>\n",
       "    .dataframe tbody tr th:only-of-type {\n",
       "        vertical-align: middle;\n",
       "    }\n",
       "\n",
       "    .dataframe tbody tr th {\n",
       "        vertical-align: top;\n",
       "    }\n",
       "\n",
       "    .dataframe thead th {\n",
       "        text-align: right;\n",
       "    }\n",
       "</style>\n",
       "<table border=\"1\" class=\"dataframe\">\n",
       "  <thead>\n",
       "    <tr style=\"text-align: right;\">\n",
       "      <th></th>\n",
       "      <th>Province/State</th>\n",
       "      <th>Country/Region</th>\n",
       "      <th>Confirmed</th>\n",
       "      <th>Deaths</th>\n",
       "      <th>Recovered</th>\n",
       "    </tr>\n",
       "    <tr>\n",
       "      <th>Last Update</th>\n",
       "      <th></th>\n",
       "      <th></th>\n",
       "      <th></th>\n",
       "      <th></th>\n",
       "      <th></th>\n",
       "    </tr>\n",
       "  </thead>\n",
       "  <tbody>\n",
       "    <tr>\n",
       "      <th>2020-03-19 00:16:00</th>\n",
       "      <td>Inner Mongolia</td>\n",
       "      <td>China</td>\n",
       "      <td>75.0</td>\n",
       "      <td>1.0</td>\n",
       "      <td>74.0</td>\n",
       "    </tr>\n",
       "    <tr>\n",
       "      <th>2020-03-19 00:16:31</th>\n",
       "      <td>Inner Mongolia</td>\n",
       "      <td>China</td>\n",
       "      <td>75.0</td>\n",
       "      <td>1.0</td>\n",
       "      <td>74.0</td>\n",
       "    </tr>\n",
       "    <tr>\n",
       "      <th>2020-03-19 00:16:31</th>\n",
       "      <td>Inner Mongolia</td>\n",
       "      <td>China</td>\n",
       "      <td>75.0</td>\n",
       "      <td>1.0</td>\n",
       "      <td>74.0</td>\n",
       "    </tr>\n",
       "    <tr>\n",
       "      <th>2020-03-19 01:02:56</th>\n",
       "      <td>Shandong</td>\n",
       "      <td>China</td>\n",
       "      <td>761.0</td>\n",
       "      <td>7.0</td>\n",
       "      <td>747.0</td>\n",
       "    </tr>\n",
       "    <tr>\n",
       "      <th>2020-03-19 01:02:56</th>\n",
       "      <td>Macau</td>\n",
       "      <td>China</td>\n",
       "      <td>17.0</td>\n",
       "      <td>0.0</td>\n",
       "      <td>10.0</td>\n",
       "    </tr>\n",
       "    <tr>\n",
       "      <th>...</th>\n",
       "      <td>...</td>\n",
       "      <td>...</td>\n",
       "      <td>...</td>\n",
       "      <td>...</td>\n",
       "      <td>...</td>\n",
       "    </tr>\n",
       "    <tr>\n",
       "      <th>2020-03-21 23:13:18</th>\n",
       "      <td>Delaware</td>\n",
       "      <td>US</td>\n",
       "      <td>45.0</td>\n",
       "      <td>0.0</td>\n",
       "      <td>0.0</td>\n",
       "    </tr>\n",
       "    <tr>\n",
       "      <th>2020-03-21 23:13:18</th>\n",
       "      <td>Maryland</td>\n",
       "      <td>US</td>\n",
       "      <td>193.0</td>\n",
       "      <td>2.0</td>\n",
       "      <td>0.0</td>\n",
       "    </tr>\n",
       "    <tr>\n",
       "      <th>2020-03-21 23:43:02</th>\n",
       "      <td>NaN</td>\n",
       "      <td>Cape Verde</td>\n",
       "      <td>1.0</td>\n",
       "      <td>0.0</td>\n",
       "      <td>0.0</td>\n",
       "    </tr>\n",
       "    <tr>\n",
       "      <th>2020-03-21 23:43:02</th>\n",
       "      <td>NaN</td>\n",
       "      <td>Uganda</td>\n",
       "      <td>1.0</td>\n",
       "      <td>0.0</td>\n",
       "      <td>0.0</td>\n",
       "    </tr>\n",
       "    <tr>\n",
       "      <th>2020-03-21 23:43:02</th>\n",
       "      <td>NaN</td>\n",
       "      <td>Papua New Guinea</td>\n",
       "      <td>1.0</td>\n",
       "      <td>0.0</td>\n",
       "      <td>0.0</td>\n",
       "    </tr>\n",
       "  </tbody>\n",
       "</table>\n",
       "<p>727 rows × 5 columns</p>\n",
       "</div>"
      ],
      "text/plain": [
       "                     Province/State    Country/Region  Confirmed  Deaths  \\\n",
       "Last Update                                                                \n",
       "2020-03-19 00:16:00  Inner Mongolia             China       75.0     1.0   \n",
       "2020-03-19 00:16:31  Inner Mongolia             China       75.0     1.0   \n",
       "2020-03-19 00:16:31  Inner Mongolia             China       75.0     1.0   \n",
       "2020-03-19 01:02:56        Shandong             China      761.0     7.0   \n",
       "2020-03-19 01:02:56           Macau             China       17.0     0.0   \n",
       "...                             ...               ...        ...     ...   \n",
       "2020-03-21 23:13:18        Delaware                US       45.0     0.0   \n",
       "2020-03-21 23:13:18        Maryland                US      193.0     2.0   \n",
       "2020-03-21 23:43:02             NaN        Cape Verde        1.0     0.0   \n",
       "2020-03-21 23:43:02             NaN            Uganda        1.0     0.0   \n",
       "2020-03-21 23:43:02             NaN  Papua New Guinea        1.0     0.0   \n",
       "\n",
       "                     Recovered  \n",
       "Last Update                     \n",
       "2020-03-19 00:16:00       74.0  \n",
       "2020-03-19 00:16:31       74.0  \n",
       "2020-03-19 00:16:31       74.0  \n",
       "2020-03-19 01:02:56      747.0  \n",
       "2020-03-19 01:02:56       10.0  \n",
       "...                        ...  \n",
       "2020-03-21 23:13:18        0.0  \n",
       "2020-03-21 23:13:18        0.0  \n",
       "2020-03-21 23:43:02        0.0  \n",
       "2020-03-21 23:43:02        0.0  \n",
       "2020-03-21 23:43:02        0.0  \n",
       "\n",
       "[727 rows x 5 columns]"
      ]
     },
     "execution_count": 125,
     "metadata": {},
     "output_type": "execute_result"
    }
   ],
   "source": [
    "data.loc['2020-03-19':'2020-03-21']"
   ]
  },
  {
   "cell_type": "markdown",
   "metadata": {},
   "source": [
    "## Region-specific cumulative data"
   ]
  },
  {
   "cell_type": "code",
   "execution_count": 150,
   "metadata": {},
   "outputs": [],
   "source": [
    "# source: https://stackoverflow.com/a/43631028\n",
    "def plot_time_series_data(x_col, y_col):\n",
    "    \"\"\"Renders a line graph for time series data, making graph more legible\"\"\"\n",
    "    fig, ax = plt.subplots()\n",
    "    ax.plot(x_col, y_col)\n",
    "    \n",
    "    # make dates legible\n",
    "    myFmt = DateFormatter(\"%m/%d\")\n",
    "    ax.xaxis.set_major_formatter(myFmt)\n",
    "    \n",
    "    # rotate dates to improve legibility\n",
    "    fig.autofmt_xdate()\n",
    "    plt.show()"
   ]
  },
  {
   "cell_type": "markdown",
   "metadata": {},
   "source": [
    "Hubei cumulative confirmed cases:"
   ]
  },
  {
   "cell_type": "code",
   "execution_count": 154,
   "metadata": {},
   "outputs": [
    {
     "data": {
      "image/png": "[encoded data removed]",
      "text/plain": [
       "<Figure size 432x288 with 1 Axes>"
      ]
     },
     "metadata": {
      "image/png": {
       "height": 240,
       "width": 388
      },
      "needs_background": "light"
     },
     "output_type": "display_data"
    }
   ],
   "source": [
    "hubei = data.loc[data['Province/State'] == 'Hubei']\n",
    "plot_time_series_data(hubei.index, hubei[\"Confirmed\"])"
   ]
  },
  {
   "cell_type": "markdown",
   "metadata": {},
   "source": [
    "DC cumulative confirmed cases:"
   ]
  },
  {
   "cell_type": "code",
   "execution_count": 155,
   "metadata": {},
   "outputs": [
    {
     "data": {
      "image/png": "[encoded data removed]",
      "text/plain": [
       "<Figure size 432x288 with 1 Axes>"
      ]
     },
     "metadata": {
      "image/png": {
       "height": 239,
       "width": 375
      },
      "needs_background": "light"
     },
     "output_type": "display_data"
    }
   ],
   "source": [
    "dc = data.loc[data['Province/State'] == 'District of Columbia']\n",
    "plot_time_series_data(dc.index, dc[\"Confirmed\"])"
   ]
  },
  {
   "cell_type": "code",
   "execution_count": null,
   "metadata": {},
   "outputs": [],
   "source": []
  }
 ],
 "metadata": {
  "kernelspec": {
   "display_name": "Python 3",
   "language": "python",
   "name": "python3"
  },
  "language_info": {
   "codemirror_mode": {
    "name": "ipython",
    "version": 3
   },
   "file_extension": ".py",
   "mimetype": "text/x-python",
   "name": "python",
   "nbconvert_exporter": "python",
   "pygments_lexer": "ipython3",
   "version": "3.6.10"
  }
 },
 "nbformat": 4,
 "nbformat_minor": 4
}

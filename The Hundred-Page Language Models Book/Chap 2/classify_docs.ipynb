{
 "cells": [
  {
   "cell_type": "code",
   "execution_count": 34,
   "id": "24fb9125-01a7-4cce-acb5-b31f59b00d04",
   "metadata": {},
   "outputs": [
    {
     "data": {
      "text/plain": [
       "<torch._C.Generator at 0x10953c690>"
      ]
     },
     "execution_count": 34,
     "metadata": {},
     "output_type": "execute_result"
    }
   ],
   "source": [
    "import re\n",
    "import torch\n",
    "import torch.nn as nn\n",
    "\n",
    "torch.manual_seed(42) # reproducible"
   ]
  },
  {
   "cell_type": "code",
   "execution_count": 27,
   "id": "796bf815-e93a-4075-a25f-4902c7bb6e7e",
   "metadata": {},
   "outputs": [
    {
     "data": {
      "text/plain": [
       "3"
      ]
     },
     "execution_count": 27,
     "metadata": {},
     "output_type": "execute_result"
    }
   ],
   "source": [
    "# we're going to buy a two-layer neural network that classifies documents into 3 categories\n",
    "docs = [\n",
    "    \"Movies are fun for everyone.\",\n",
    "    \"Watching movies is great fun.\",\n",
    "    \"Enjoy a great movie today.\",\n",
    "    \"Research is interesting and important.\",\n",
    "    \"Learning math is very important.\",\n",
    "    \"Science discovery is interesting.\",\n",
    "    \"Rock is great to listen to.\",\n",
    "    \"Listen to music for fun.\",\n",
    "    \"Music is fun for everyone.\",\n",
    "    \"Listen to folk music!\"\n",
    "]\n",
    "\n",
    "labels_raw = [1, 1, 1, 3, 3, 3, 2, 2, 2, 2] # classify docs into classes: 1 = Cinema, 2 = Science, 3 = Music\n",
    "num_classes = len(set(labels_raw))\n",
    "\n",
    "num_classes"
   ]
  },
  {
   "cell_type": "code",
   "execution_count": 16,
   "id": "2ccd6e8f-6b31-4d7b-917a-c0f911f80e41",
   "metadata": {},
   "outputs": [
    {
     "data": {
      "text/plain": [
       "['movies', 'are', 'fun', 'for', 'everyone']"
      ]
     },
     "execution_count": 16,
     "metadata": {},
     "output_type": "execute_result"
    }
   ],
   "source": [
    "# tokenize given text\n",
    "def tokenize(text):\n",
    "    return re.findall(r\"\\w+\", text.lower())\n",
    "\n",
    "assert ['movies', 'are', 'fun', 'for', 'everyone'] == tokenize(docs[0])\n",
    "assert ['watching', 'movies', 'is', 'great', 'fun'] == tokenize(docs[1])\n",
    "\n",
    "tokenize(docs[0])"
   ]
  },
  {
   "cell_type": "code",
   "execution_count": 18,
   "id": "07186f6f-584a-4e63-9a7d-8fd9db92ed7d",
   "metadata": {},
   "outputs": [
    {
     "data": {
      "text/plain": [
       "{'a': 0,\n",
       " 'and': 1,\n",
       " 'are': 2,\n",
       " 'discovery': 3,\n",
       " 'enjoy': 4,\n",
       " 'everyone': 5,\n",
       " 'folk': 6,\n",
       " 'for': 7,\n",
       " 'fun': 8,\n",
       " 'great': 9,\n",
       " 'important': 10,\n",
       " 'interesting': 11,\n",
       " 'is': 12,\n",
       " 'learning': 13,\n",
       " 'listen': 14,\n",
       " 'math': 15,\n",
       " 'movie': 16,\n",
       " 'movies': 17,\n",
       " 'music': 18,\n",
       " 'research': 19,\n",
       " 'rock': 20,\n",
       " 'science': 21,\n",
       " 'to': 22,\n",
       " 'today': 23,\n",
       " 'very': 24,\n",
       " 'watching': 25}"
      ]
     },
     "execution_count": 18,
     "metadata": {},
     "output_type": "execute_result"
    }
   ],
   "source": [
    "def get_vocabulary(texts):\n",
    "    tokens = {token for text in texts for token in tokenize(text)}\n",
    "    return {word: idx for idx, word in enumerate(sorted(tokens))}\n",
    "\n",
    "vocabulary = get_vocabulary(docs)\n",
    "vocabulary"
   ]
  },
  {
   "cell_type": "code",
   "execution_count": 23,
   "id": "1411bff5-16e6-4b27-b9d5-beae438b6d88",
   "metadata": {},
   "outputs": [],
   "source": [
    "# extract features, convert document into feature vector (bag of words)\n",
    "def doc_to_bow(doc, vocabulary):\n",
    "    tokens = set(tokenize(doc))\n",
    "    bow = [0] * len(vocabulary) # initialize vector\n",
    "    for t in tokens:\n",
    "        if t in vocabulary:\n",
    "            bow[vocabulary[t]] = 1\n",
    "    return bow\n",
    "\n",
    "assert [0, 0, 1, 0, 0, 1, 0, 1, 1, 0, 0, 0, 0, 0, 0, 0, 0, 1, 0, 0, 0, 0, 0, 0, 0, 0] == doc_to_bow(docs[0], vocabulary)"
   ]
  },
  {
   "cell_type": "code",
   "execution_count": 42,
   "id": "56183257-62d0-420f-8ea7-d62bdb198cbb",
   "metadata": {},
   "outputs": [
    {
     "data": {
      "text/plain": [
       "torch.Size([10, 26])"
      ]
     },
     "execution_count": 42,
     "metadata": {},
     "output_type": "execute_result"
    }
   ],
   "source": [
    "# prepare inputs\n",
    "def generator_input_vector(docs, vocabulary):\n",
    "    return torch.tensor(\n",
    "        [doc_to_bow(doc, vocabulary) for doc in docs],\n",
    "        dtype=torch.float32\n",
    "    )\n",
    "\n",
    "vector = generator_input_vector(docs, vocabulary)\n",
    "labels = torch.tensor(labels_raw, dtype=torch.long) - 1 # subtract 1 so zero-indexed\n",
    "\n",
    "vector.shape"
   ]
  },
  {
   "cell_type": "code",
   "execution_count": 37,
   "id": "7af93742-e37f-43db-ba94-e9d808f7a7e6",
   "metadata": {},
   "outputs": [],
   "source": [
    "class SimpleClassifier(nn.Module):\n",
    "    def __init__(self, input_dim, hidden_dim, output_dim):\n",
    "        super().__init__()\n",
    "        self.fc1 = nn.Linear(input_dim, hidden_dim)\n",
    "        self.relu = nn.ReLU()\n",
    "        self.fc2 = nn.Linear(hidden_dim, output_dim)\n",
    "\n",
    "    def forward(self, x):\n",
    "        x = self.fc1(x)\n",
    "        x = self.relu(x)\n",
    "        x = self.fc2(x)\n",
    "        return x\n",
    "\n",
    "model = SimpleClassifier(\n",
    "    input_dim = len(vocabulary),\n",
    "    hidden_dim = 50,\n",
    "    output_dim = num_classes\n",
    ")"
   ]
  },
  {
   "cell_type": "code",
   "execution_count": 41,
   "id": "b62cb99f-a5c4-4554-8956-22dba949f7c3",
   "metadata": {},
   "outputs": [],
   "source": [
    "# train the model\n",
    "criterion = nn.CrossEntropyLoss()\n",
    "optimizer = torch.optim.SGD(model.parameters(), lr=0.001)\n",
    "\n",
    "for step in range(3000):\n",
    "    optimizer.zero_grad() # don't need to save .grad, save memory\n",
    "    loss = criterion(model(vector), labels)\n",
    "    loss.backward()\n",
    "    optimizer.step()"
   ]
  },
  {
   "cell_type": "code",
   "execution_count": 44,
   "id": "9ab20fac-08e8-4bb6-8c96-b47de982282d",
   "metadata": {},
   "outputs": [
    {
     "name": "stdout",
     "output_type": "stream",
     "text": [
      "Listening to rock music is fun.: Music\n",
      "I love science very much.: Science\n"
     ]
    }
   ],
   "source": [
    "# test the model\n",
    "new_docs = [\n",
    "    \"Listening to rock music is fun.\",\n",
    "    \"I love science very much.\"\n",
    "]\n",
    "\n",
    "class_names = [\"Cinema\", \"Music\", \"Science\"]\n",
    "\n",
    "new_doc_vectors = generator_input_vector(new_docs, vocabulary)\n",
    "\n",
    "with torch.no_grad(): # \n",
    "    outputs = model(new_doc_vectors)\n",
    "    predicted_ids = torch.argmax(outputs, dim=1) +  1\n",
    "\n",
    "for i, new_doc in enumerate(new_docs):\n",
    "    print(f'{new_doc}: {class_names[predicted_ids[i].item() - 1]}')"
   ]
  }
 ],
 "metadata": {
  "kernelspec": {
   "display_name": "Python 3 (ipykernel)",
   "language": "python",
   "name": "python3"
  },
  "language_info": {
   "codemirror_mode": {
    "name": "ipython",
    "version": 3
   },
   "file_extension": ".py",
   "mimetype": "text/x-python",
   "name": "python",
   "nbconvert_exporter": "python",
   "pygments_lexer": "ipython3",
   "version": "3.11.4"
  }
 },
 "nbformat": 4,
 "nbformat_minor": 5
}

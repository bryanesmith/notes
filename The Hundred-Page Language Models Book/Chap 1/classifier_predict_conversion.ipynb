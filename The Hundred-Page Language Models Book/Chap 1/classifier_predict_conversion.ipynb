{
 "cells": [
  {
   "cell_type": "code",
   "execution_count": 6,
   "id": "a6524c44-b7f7-4b35-b354-676fba19f07d",
   "metadata": {},
   "outputs": [],
   "source": [
    "# Requires PyTorch\n",
    "#pip install torch\n",
    "\n",
    "import torch\n",
    "import torch.nn as nn\n",
    "import torch.optim as optim"
   ]
  },
  {
   "cell_type": "code",
   "execution_count": 8,
   "id": "be0b8980-0541-4f9e-a886-ef3f11903afe",
   "metadata": {},
   "outputs": [
    {
     "data": {
      "text/plain": [
       "torch.Size([12, 2])"
      ]
     },
     "execution_count": 8,
     "metadata": {},
     "output_type": "execute_result"
    }
   ],
   "source": [
    "# age (in years) and income (in thousands of dollars)\n",
    "inputs = torch.tensor([\n",
    "    [22, 25], [25, 35], [47, 80], [52, 95], [46, 82], [56, 90],\n",
    "    [23, 27], [30, 50], [40, 60], [39, 57], [53, 95], [48, 88]\n",
    "], dtype=torch.float32)\n",
    "\n",
    "# buy or not buy product\n",
    "labels = torch.tensor([\n",
    "    [0], [0], [1], [1], [1], [1], [0], [1], [1], [0], [1], [1]\n",
    "], dtype = torch.float32)\n",
    "\n",
    "inputs.shape"
   ]
  },
  {
   "cell_type": "code",
   "execution_count": 10,
   "id": "44a7ece4-6096-47e3-a095-481aac56e586",
   "metadata": {},
   "outputs": [],
   "source": [
    "model = nn.Sequential(\n",
    "    nn.Linear(inputs.shape[1], 1), # layer is (2, 1)\n",
    "    nn.Sigmoid() # adds non-linearity\n",
    ")\n",
    "\n",
    "optimizer = optim.SGD(model.parameters(), lr=0.001)\n",
    "criterion = nn.BCELoss() # binary cross-entropy loss"
   ]
  },
  {
   "cell_type": "code",
   "execution_count": 11,
   "id": "1dbefb03-1469-4ec2-bbff-c35846207c62",
   "metadata": {},
   "outputs": [],
   "source": [
    "for step in range(500):\n",
    "    optimizer.zero_grad() # clear gradients in .grad attribute of weights and biases, not needed (save memory)\n",
    "    loss = criterion(model(inputs), labels) # forward pass\n",
    "    loss.backward() # backward pass (backpropogation)\n",
    "    optimizer.step() # update parameter values (subtract product of learning rate and loss fn's partial derivatives)"
   ]
  },
  {
   "cell_type": "code",
   "execution_count": 12,
   "id": "222b669d-001f-4953-b3ac-3bcf5bf22edb",
   "metadata": {},
   "outputs": [
    {
     "data": {
      "text/plain": [
       "tensor([[0.9897],\n",
       "        [0.0201]], grad_fn=<SigmoidBackward0>)"
      ]
     },
     "execution_count": 12,
     "metadata": {},
     "output_type": "execute_result"
    }
   ],
   "source": [
    "test_data = torch.tensor([\n",
    "    [30, 85], [40, 15]\n",
    "], dtype=torch.float32)\n",
    "\n",
    "model(test_data)"
   ]
  },
  {
   "cell_type": "code",
   "execution_count": null,
   "id": "3a985a93-e075-47f4-8e06-55d11cf0cdde",
   "metadata": {},
   "outputs": [],
   "source": []
  }
 ],
 "metadata": {
  "kernelspec": {
   "display_name": "Python 3 (ipykernel)",
   "language": "python",
   "name": "python3"
  },
  "language_info": {
   "codemirror_mode": {
    "name": "ipython",
    "version": 3
   },
   "file_extension": ".py",
   "mimetype": "text/x-python",
   "name": "python",
   "nbconvert_exporter": "python",
   "pygments_lexer": "ipython3",
   "version": "3.11.4"
  }
 },
 "nbformat": 4,
 "nbformat_minor": 5
}

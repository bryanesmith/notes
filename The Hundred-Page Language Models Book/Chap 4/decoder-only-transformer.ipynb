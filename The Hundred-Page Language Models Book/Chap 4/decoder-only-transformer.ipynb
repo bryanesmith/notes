{
 "cells": [
  {
   "cell_type": "markdown",
   "id": "bbf773fc-098f-428e-8817-89a25ce1c035",
   "metadata": {},
   "source": [
    "We're going to build, train, and evaluate a PyTorch-based decoder-only transformer to predict tokens. \n",
    "\n",
    "Here is the architecture for a single decoder block:\n",
    "\n",
    "<img src=\"../images/transformer-decoder-block-architecture.png\" style=\"width:800px; border: 1px solid #000;\"/>\n",
    "\n",
    "Each decoder-only transformer model will be have 1 or more of these blocks."
   ]
  },
  {
   "cell_type": "code",
   "execution_count": null,
   "id": "51cd2ee7-3a3a-4716-bf03-e9ecc75d0662",
   "metadata": {},
   "outputs": [],
   "source": []
  }
 ],
 "metadata": {
  "kernelspec": {
   "display_name": "Python 3 (ipykernel)",
   "language": "python",
   "name": "python3"
  },
  "language_info": {
   "codemirror_mode": {
    "name": "ipython",
    "version": 3
   },
   "file_extension": ".py",
   "mimetype": "text/x-python",
   "name": "python",
   "nbconvert_exporter": "python",
   "pygments_lexer": "ipython3",
   "version": "3.11.4"
  }
 },
 "nbformat": 4,
 "nbformat_minor": 5
}

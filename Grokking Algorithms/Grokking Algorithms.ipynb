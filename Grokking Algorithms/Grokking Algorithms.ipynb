{
 "cells": [
  {
   "cell_type": "markdown",
   "id": "76f66ba2-9bbf-4fe8-9b8f-9c13f34419a8",
   "metadata": {},
   "source": [
    "# Grokking Algorithms"
   ]
  },
  {
   "cell_type": "code",
   "execution_count": 10,
   "id": "f65f3342-3a6e-4cab-bf5d-2ac5ed868db4",
   "metadata": {},
   "outputs": [],
   "source": [
    "import time"
   ]
  },
  {
   "cell_type": "markdown",
   "id": "6c39a94f-ebac-412b-952e-70150bf22db2",
   "metadata": {},
   "source": [
    "## Chapter 1: Introduction to Algorithms\n",
    "\n",
    "### Binary Search\n",
    "\n",
    "Given sorted input collection, finds a member in `O(log n)`"
   ]
  },
  {
   "cell_type": "code",
   "execution_count": 81,
   "id": "5b37d7e5-efea-4e6d-a433-4f753a0fa8e4",
   "metadata": {},
   "outputs": [],
   "source": [
    "def binary_search(haystack, needle) -> int:\n",
    "    start = 0\n",
    "    end = len(haystack) - 1\n",
    "    while True:\n",
    "        next = start + int((end - start) / 2)\n",
    "        if start > end or next >= len(haystack) or next < 0:\n",
    "            return None\n",
    "        elif haystack[next] == needle:\n",
    "            return next\n",
    "        elif haystack[next] < needle:\n",
    "            start = next + 1\n",
    "        else:\n",
    "            end = next - 1\n",
    "\n",
    "\n",
    "def assert_find(haystack, needle, expect_idx):\n",
    "    found_idx = binary_search(haystack, needle)\n",
    "    print(f'{needle} is at index: {found_idx}')\n",
    "    assert found_idx == expect_idx\n",
    "\n",
    "\n",
    "def assert_find_all(haystack):\n",
    "    for expect_idx in range(len(haystack)):\n",
    "        assert_find(haystack, haystack[expect_idx], expect_idx)"
   ]
  },
  {
   "cell_type": "code",
   "execution_count": 112,
   "id": "f1487cb2-7cad-4137-95ba-67028deb400e",
   "metadata": {},
   "outputs": [
    {
     "name": "stdout",
     "output_type": "stream",
     "text": [
      "1 is at index: 0\n",
      "3 is at index: 1\n",
      "5 is at index: 2\n",
      "7 is at index: 3\n",
      "9 is at index: 4\n",
      "11 is at index: 5\n",
      "13 is at index: 6\n",
      "15 is at index: 7\n",
      "17 is at index: 8\n",
      "19 is at index: 9\n"
     ]
    }
   ],
   "source": [
    "haystack = list(range(1, 20, 2)) # odd numbers [1, 3, 5, ..., 19]\n",
    "\n",
    "# Should find\n",
    "assert_find_all(haystack)\n",
    "\n",
    "# Shouldn't find\n",
    "assert binary_search(haystack, 12) is None\n",
    "assert binary_search(haystack, 21) is None\n",
    "assert binary_search(haystack, -1) is None"
   ]
  },
  {
   "cell_type": "code",
   "execution_count": 113,
   "id": "6c02399c-f5b3-4e67-b641-47a1b0e4363b",
   "metadata": {},
   "outputs": [
    {
     "name": "stdout",
     "output_type": "stream",
     "text": [
      "Alice is at index: 0\n",
      "Bob is at index: 1\n",
      "Duckling is at index: 2\n",
      "Pigeon is at index: 3\n"
     ]
    }
   ],
   "source": [
    "haystack = ('Alice', 'Bob', 'Duckling', 'Pigeon')\n",
    "\n",
    "# Should find\n",
    "assert_find_all(haystack)\n",
    "\n",
    "# Shouldn't find\n",
    "assert binary_search(haystack, 'Gerald') is None"
   ]
  },
  {
   "cell_type": "markdown",
   "id": "f25192b8-96de-425a-9511-7037e665c6dd",
   "metadata": {},
   "source": [
    "## Chapter 2: Selection Sort\n",
    "\n",
    "### Arrays vs Lists\n",
    "\n",
    "| | Arrays | Lists |\n",
    "| --- | --- | --- |\n",
    "| Reading | `O(1)` | `O(n)` |\n",
    "| Insertion | `O(n)` | `O(1)` |\n",
    "| Deletion | `O(n)` | `O(1)` |\n",
    "\n",
    "* **arrays** are good for random access, while **lists** are go for frequent insertions as well as deletion from first/last positions\n",
    "\n",
    "### Selection sort\n",
    "\n",
    "**Selection sort** involves sorting by finding the one item (the next smallest item) per iteration, and is `O(n^2)`."
   ]
  },
  {
   "cell_type": "code",
   "execution_count": 102,
   "id": "c8df5654-5922-4afa-a348-6343729f499e",
   "metadata": {},
   "outputs": [],
   "source": [
    "def find_index_smallest(a_list: list):\n",
    "    smallest_idx = None\n",
    "    for idx, x in enumerate(a_list):\n",
    "        if smallest_idx is None or x < a_list[smallest_idx]:\n",
    "            smallest_idx = idx\n",
    "    return smallest_idx\n",
    "\n",
    "\n",
    "def selection_sort(a_list: list) -> list: \n",
    "    sorted = []\n",
    "    unsorted = a_list.copy()\n",
    "    while len(unsorted) > 0:\n",
    "        smallest_idx = find_index_smallest(unsorted)\n",
    "        smallest_val = unsorted.pop(smallest_idx)\n",
    "        sorted.append(smallest_val)\n",
    "    return sorted\n",
    "\n",
    "\n",
    "def assert_selection_sort(a_list: list, expected_list):\n",
    "    sorted = selection_sort(a_list)\n",
    "    print(f\"Sorted list: {sorted}\")\n",
    "    assert sorted == expected_list"
   ]
  },
  {
   "cell_type": "code",
   "execution_count": 114,
   "id": "6bac3c2d-06b7-4252-8e2b-581f74476a00",
   "metadata": {},
   "outputs": [
    {
     "name": "stdout",
     "output_type": "stream",
     "text": [
      "Sorted list: [1, 2, 3, 5]\n",
      "Sorted list: ['alice', 'bob', 'gerald', 'piggie']\n"
     ]
    }
   ],
   "source": [
    "assert_selection_sort([5, 2, 1, 3], [1, 2, 3, 5])\n",
    "assert_selection_sort(['bob', 'gerald', 'piggie', 'alice'], ['alice', 'bob', 'gerald', 'piggie'])"
   ]
  },
  {
   "cell_type": "code",
   "execution_count": null,
   "id": "781f5810-9ef6-44a7-9db6-6f83cf1cdf12",
   "metadata": {},
   "outputs": [],
   "source": []
  }
 ],
 "metadata": {
  "kernelspec": {
   "display_name": "Python 3 (ipykernel)",
   "language": "python",
   "name": "python3"
  },
  "language_info": {
   "codemirror_mode": {
    "name": "ipython",
    "version": 3
   },
   "file_extension": ".py",
   "mimetype": "text/x-python",
   "name": "python",
   "nbconvert_exporter": "python",
   "pygments_lexer": "ipython3",
   "version": "3.11.4"
  }
 },
 "nbformat": 4,
 "nbformat_minor": 5
}

{
 "cells": [
  {
   "cell_type": "markdown",
   "id": "76f66ba2-9bbf-4fe8-9b8f-9c13f34419a8",
   "metadata": {},
   "source": [
    "# Grokking Algorithms"
   ]
  },
  {
   "cell_type": "code",
   "execution_count": 184,
   "id": "f65f3342-3a6e-4cab-bf5d-2ac5ed868db4",
   "metadata": {},
   "outputs": [],
   "source": [
    "import math\n",
    "import time"
   ]
  },
  {
   "cell_type": "markdown",
   "id": "6c39a94f-ebac-412b-952e-70150bf22db2",
   "metadata": {},
   "source": [
    "## Chapter 1: Introduction to Algorithms\n",
    "\n",
    "### Binary Search\n",
    "\n",
    "Given sorted input collection, finds a member in `O(log n)`"
   ]
  },
  {
   "cell_type": "code",
   "execution_count": 81,
   "id": "5b37d7e5-efea-4e6d-a433-4f753a0fa8e4",
   "metadata": {},
   "outputs": [],
   "source": [
    "def binary_search(haystack, needle) -> int:\n",
    "    start = 0\n",
    "    end = len(haystack) - 1\n",
    "    while True:\n",
    "        next = start + int((end - start) / 2)\n",
    "        if start > end or next >= len(haystack) or next < 0:\n",
    "            return None\n",
    "        elif haystack[next] == needle:\n",
    "            return next\n",
    "        elif haystack[next] < needle:\n",
    "            start = next + 1\n",
    "        else:\n",
    "            end = next - 1\n",
    "\n",
    "\n",
    "def assert_find(haystack, needle, expect_idx):\n",
    "    found_idx = binary_search(haystack, needle)\n",
    "    print(f'{needle} is at index: {found_idx}')\n",
    "    assert found_idx == expect_idx\n",
    "\n",
    "\n",
    "def assert_find_all(haystack):\n",
    "    for expect_idx in range(len(haystack)):\n",
    "        assert_find(haystack, haystack[expect_idx], expect_idx)"
   ]
  },
  {
   "cell_type": "code",
   "execution_count": 112,
   "id": "f1487cb2-7cad-4137-95ba-67028deb400e",
   "metadata": {},
   "outputs": [
    {
     "name": "stdout",
     "output_type": "stream",
     "text": [
      "1 is at index: 0\n",
      "3 is at index: 1\n",
      "5 is at index: 2\n",
      "7 is at index: 3\n",
      "9 is at index: 4\n",
      "11 is at index: 5\n",
      "13 is at index: 6\n",
      "15 is at index: 7\n",
      "17 is at index: 8\n",
      "19 is at index: 9\n"
     ]
    }
   ],
   "source": [
    "haystack = list(range(1, 20, 2)) # odd numbers [1, 3, 5, ..., 19]\n",
    "\n",
    "# Should find\n",
    "assert_find_all(haystack)\n",
    "\n",
    "# Shouldn't find\n",
    "assert binary_search(haystack, 12) is None\n",
    "assert binary_search(haystack, 21) is None\n",
    "assert binary_search(haystack, -1) is None"
   ]
  },
  {
   "cell_type": "code",
   "execution_count": 113,
   "id": "6c02399c-f5b3-4e67-b641-47a1b0e4363b",
   "metadata": {},
   "outputs": [
    {
     "name": "stdout",
     "output_type": "stream",
     "text": [
      "Alice is at index: 0\n",
      "Bob is at index: 1\n",
      "Duckling is at index: 2\n",
      "Pigeon is at index: 3\n"
     ]
    }
   ],
   "source": [
    "haystack = ('Alice', 'Bob', 'Duckling', 'Pigeon')\n",
    "\n",
    "# Should find\n",
    "assert_find_all(haystack)\n",
    "\n",
    "# Shouldn't find\n",
    "assert binary_search(haystack, 'Gerald') is None"
   ]
  },
  {
   "cell_type": "markdown",
   "id": "f25192b8-96de-425a-9511-7037e665c6dd",
   "metadata": {},
   "source": [
    "## Chapter 2: Selection Sort\n",
    "\n",
    "### Arrays vs Lists\n",
    "\n",
    "| | Arrays | Lists |\n",
    "| --- | --- | --- |\n",
    "| Reading | `O(1)` | `O(n)` |\n",
    "| Insertion | `O(n)` | `O(1)` |\n",
    "| Deletion | `O(n)` | `O(1)` |\n",
    "\n",
    "* **arrays** are good for random access, while **lists** are go for frequent insertions as well as deletion from first/last positions\n",
    "\n",
    "### Selection sort\n",
    "\n",
    "**Selection sort** involves sorting by finding the one item (the next smallest item) per iteration, and is `O(n^2)`."
   ]
  },
  {
   "cell_type": "code",
   "execution_count": 102,
   "id": "c8df5654-5922-4afa-a348-6343729f499e",
   "metadata": {},
   "outputs": [],
   "source": [
    "def find_index_smallest(a_list: list):\n",
    "    smallest_idx = None\n",
    "    for idx, x in enumerate(a_list):\n",
    "        if smallest_idx is None or x < a_list[smallest_idx]:\n",
    "            smallest_idx = idx\n",
    "    return smallest_idx\n",
    "\n",
    "\n",
    "def selection_sort(a_list: list) -> list: \n",
    "    sorted = []\n",
    "    unsorted = a_list.copy()\n",
    "    while len(unsorted) > 0:\n",
    "        smallest_idx = find_index_smallest(unsorted)\n",
    "        smallest_val = unsorted.pop(smallest_idx)\n",
    "        sorted.append(smallest_val)\n",
    "    return sorted\n",
    "\n",
    "\n",
    "def assert_selection_sort(a_list: list, expected_list):\n",
    "    sorted = selection_sort(a_list)\n",
    "    print(f\"Sorted list: {sorted}\")\n",
    "    assert sorted == expected_list"
   ]
  },
  {
   "cell_type": "code",
   "execution_count": 114,
   "id": "6bac3c2d-06b7-4252-8e2b-581f74476a00",
   "metadata": {},
   "outputs": [
    {
     "name": "stdout",
     "output_type": "stream",
     "text": [
      "Sorted list: [1, 2, 3, 5]\n",
      "Sorted list: ['alice', 'bob', 'gerald', 'piggie']\n"
     ]
    }
   ],
   "source": [
    "assert_selection_sort([5, 2, 1, 3], [1, 2, 3, 5])\n",
    "assert_selection_sort(['bob', 'gerald', 'piggie', 'alice'], ['alice', 'bob', 'gerald', 'piggie'])"
   ]
  },
  {
   "cell_type": "markdown",
   "id": "5ba3f553-013f-4f73-9bca-61d806305696",
   "metadata": {},
   "source": [
    "## Chapter 3: Recursion"
   ]
  },
  {
   "cell_type": "markdown",
   "id": "bb8e3ba3-0df3-406e-92ca-d2d0569108d8",
   "metadata": {},
   "source": [
    "* Recursive functions include a *base case* and a *recursive case*:\n",
    "```\n",
    "def count_down(i):\n",
    "    print(i)\n",
    "    if i <= 0: # the *base case*\n",
    "        return\n",
    "    else:      # the *recursive case*\n",
    "        count_down(i - 1)\n",
    "```\n",
    "* Recursion is easier for human, but takes up extra memory due to using the call stack\n",
    "* A *stack* is a data structure with two operations: `push` and `pop`"
   ]
  },
  {
   "cell_type": "code",
   "execution_count": 123,
   "id": "a9d9722e-6152-4c63-a391-d48f63b22969",
   "metadata": {},
   "outputs": [],
   "source": [
    "class Stack:\n",
    "    def __init__(self):\n",
    "        self._stack = []\n",
    "\n",
    "    def push(self, item):\n",
    "        self._stack.append(item)\n",
    "\n",
    "    def pop(self):\n",
    "        return self._stack.pop(-1) if len(self._stack) > 0 else None"
   ]
  },
  {
   "cell_type": "code",
   "execution_count": 124,
   "id": "da5d3bcf-88f3-43c7-be9d-7b23ae655d09",
   "metadata": {},
   "outputs": [],
   "source": [
    "my_stack = Stack()\n",
    "\n",
    "my_stack.push('foo')\n",
    "my_stack.push('bar')\n",
    "assert my_stack.pop() == 'bar'\n",
    "my_stack.push('baz')\n",
    "assert my_stack.pop() == 'baz'\n",
    "assert my_stack.pop() == 'foo'\n",
    "assert my_stack.pop() is None"
   ]
  },
  {
   "cell_type": "code",
   "execution_count": 131,
   "id": "60b0426f-1dd4-4885-9a45-e1ac33e2681d",
   "metadata": {},
   "outputs": [],
   "source": [
    "def factorial_recursive(i: int) -> int:\n",
    "    return i * factor_recursive(i - 1) if i > 1 else 1\n",
    "\n",
    "\n",
    "def factorial_iterative(i: int) -> int:\n",
    "    val = 1\n",
    "    for next in range(2, i + 1):\n",
    "        val *= next\n",
    "    return val"
   ]
  },
  {
   "cell_type": "code",
   "execution_count": 133,
   "id": "5ec83bdf-9e77-4dec-bea0-0717a2b4f282",
   "metadata": {},
   "outputs": [],
   "source": [
    "assert factorial_recursive(5) == 5 * 4 * 3 * 2\n",
    "assert factorial_iterative(5) == 5 * 4 * 3 * 2"
   ]
  },
  {
   "cell_type": "markdown",
   "id": "a812aaca-13e2-40c9-a927-dbba54a18f38",
   "metadata": {},
   "source": [
    "## Chapter 4: Quicksort\n",
    "\n",
    "### Divide & Conquer\n",
    "\n",
    "* **Divide & Conquer** (**D&C**): "
   ]
  },
  {
   "cell_type": "code",
   "execution_count": 136,
   "id": "f927282b-9f71-4146-9e28-3b78ae208b4c",
   "metadata": {},
   "outputs": [
    {
     "name": "stdout",
     "output_type": "stream",
     "text": [
      "Dividing 1680m x 640m field into (80, 80)\n"
     ]
    }
   ],
   "source": [
    "def divide_field_into_even_plots(width, height):\n",
    "    \"\"\"\n",
    "    If we want to divide a field into even-sized plots, what's the largest possible size plot? \n",
    "    Uses divide and conquer.\n",
    "    \"\"\"\n",
    "    # wide\n",
    "    if width > height:\n",
    "        remainder = width % height\n",
    "        return (height, height) if remainder == 0 else divide_field_into_even_plots(remainder, height)\n",
    "\n",
    "    # tall\n",
    "    elif height > width:\n",
    "        remainder = height % width\n",
    "        return (width, width) if remainder == 0 else divide_field_into_even_plots(width, remainder)\n",
    "\n",
    "    # square\n",
    "    return (width, width)\n",
    "\n",
    "print(f'Dividing 1680m x 640m field into {divide_field_into_even_plots(1680, 640)}')"
   ]
  },
  {
   "cell_type": "code",
   "execution_count": 142,
   "id": "9c05d38d-344f-4453-86d0-3696741d6866",
   "metadata": {},
   "outputs": [
    {
     "data": {
      "text/plain": [
       "17"
      ]
     },
     "execution_count": 142,
     "metadata": {},
     "output_type": "execute_result"
    }
   ],
   "source": [
    "def add(vals:list[int]) -> int:\n",
    "    if len(vals) == 0:\n",
    "        return 0\n",
    "    return vals[0] + add(vals[1:])\n",
    "\n",
    "add([2, 4, 5, 6])"
   ]
  },
  {
   "cell_type": "code",
   "execution_count": 143,
   "id": "769f35c6-3c17-48a6-9aee-453f9f2b61cd",
   "metadata": {},
   "outputs": [
    {
     "data": {
      "text/plain": [
       "4"
      ]
     },
     "execution_count": 143,
     "metadata": {},
     "output_type": "execute_result"
    }
   ],
   "source": [
    "def count(vals:list[int]) -> int:\n",
    "    if len(vals) == 0:\n",
    "        return 0\n",
    "    return 1 + count(vals[1:])\n",
    "\n",
    "count([2, 2, 3, 5])"
   ]
  },
  {
   "cell_type": "code",
   "execution_count": 147,
   "id": "0f715405-19b3-449b-a85d-baa525a48293",
   "metadata": {},
   "outputs": [
    {
     "name": "stdout",
     "output_type": "stream",
     "text": [
      "max: 5\n",
      "max: 14\n",
      "max: 6\n"
     ]
    }
   ],
   "source": [
    "def max(vals: list[int]) -> int:\n",
    "    if len(vals) == 0:\n",
    "        raise Error('Must pass in list with at least one element')\n",
    "    elif len(vals) == 1:\n",
    "        return vals[0]\n",
    "    other = max(vals[1:])\n",
    "    return other if other > vals[0] else vals[0]\n",
    "\n",
    "print(f'max: {max([5, 1, 0])}')\n",
    "print(f'max: {max([1, 14, 1, 0])}')\n",
    "print(f'max: {max([5, 1, 0, 6])}')"
   ]
  },
  {
   "cell_type": "code",
   "execution_count": 150,
   "id": "7b5abb34-a2cf-4bff-abed-86da2eae7b5f",
   "metadata": {},
   "outputs": [
    {
     "name": "stdout",
     "output_type": "stream",
     "text": [
      "None\n",
      "0\n",
      "1\n",
      "2\n",
      "None\n",
      "3\n",
      "None\n"
     ]
    }
   ],
   "source": [
    "def _binary_search(haystack, needle, start, end) -> int:\n",
    "    next = start + int((end - start) / 2)\n",
    "    if start > end or next >= len(haystack) or next < 0:\n",
    "        return None\n",
    "    elif haystack[next] == needle:\n",
    "        return next\n",
    "    elif haystack[next] < needle:\n",
    "        return _binary_search(haystack, needle, next + 1, end)\n",
    "    else:\n",
    "        end = next - 1\n",
    "        return _binary_search(haystack, needle, start, next - 1)\n",
    "\n",
    "\n",
    "def binary_search(haystack, needle) -> int:\n",
    "    return _binary_search(haystack, needle, 0, len(haystack) - 1)\n",
    "\n",
    "\n",
    "haystack = [1, 2, 3, 5]\n",
    "print(binary_search(haystack, 0))\n",
    "print(binary_search(haystack, 1))\n",
    "print(binary_search(haystack, 2))\n",
    "print(binary_search(haystack, 3))\n",
    "print(binary_search(haystack, 4))\n",
    "print(binary_search(haystack, 5))\n",
    "print(binary_search(haystack, 6))"
   ]
  },
  {
   "cell_type": "code",
   "execution_count": 175,
   "id": "b95e783a-54cb-4419-b0b0-db3b3b418ec6",
   "metadata": {},
   "outputs": [
    {
     "name": "stdout",
     "output_type": "stream",
     "text": [
      "[1, 1, 1, 1, 5]\n",
      "[1, 1, 1, 1, 5]\n",
      "[25, 25]\n",
      "[1, 1, 10, 5, 25, 25, 25]\n"
     ]
    }
   ],
   "source": [
    "US_COINS = {1,5,10,25}\n",
    "cache = {}\n",
    "\n",
    "\n",
    "def _make_change(amount: int, valid_coins:set[int]) -> list[int]:\n",
    "    least_coins = None\n",
    "    for coin in valid_coins:\n",
    "        if coin <= amount:\n",
    "            next_coins = [coin] + make_change(amount - coin, valid_coins)\n",
    "            if least_coins is None or len(next_coins) < len(least_coins):\n",
    "                least_coins = next_coins\n",
    "    return [] if least_coins is None else least_coins\n",
    "\n",
    "\n",
    "def make_change(amount: int, valid_coins:set[int]) -> list[int]:\n",
    "    \"\"\"\n",
    "    Makes change for a bill using the least number of coins.\n",
    "    \"\"\"\n",
    "    if amount not in cache:\n",
    "        cache[amount] = _make_change(amount, valid_coins)\n",
    "    return cache[amount]\n",
    "\n",
    "\n",
    "print(make_change(9, US_COINS))\n",
    "print(make_change(9, {1,3}))\n",
    "print(make_change(50, US_COINS))\n",
    "print(make_change(92, US_COINS))"
   ]
  },
  {
   "cell_type": "markdown",
   "id": "7e47ada3-5a4e-46c8-b51e-80e257814e26",
   "metadata": {},
   "source": [
    "### Quicksort"
   ]
  },
  {
   "cell_type": "code",
   "execution_count": 183,
   "id": "00213e45-b798-4479-abef-d2f8d667a5d2",
   "metadata": {},
   "outputs": [
    {
     "name": "stdout",
     "output_type": "stream",
     "text": [
      "[]\n",
      "[1]\n",
      "[1, 2, 3]\n",
      "[1, 2, 3]\n",
      "[1, 2, 3, 4, 5, 6, 7, 8, 9, 10]\n"
     ]
    }
   ],
   "source": [
    "def quicksort(values: list[int]) -> list[int]:\n",
    "    if len(values) < 2:\n",
    "        return values\n",
    "    pivot = values[0]\n",
    "    return quicksort([v for v in values[1:] if v <= pivot]) + [pivot] + quicksort([v for v in values[1:] if v > pivot])\n",
    "\n",
    "\n",
    "print(quicksort([]))\n",
    "print(quicksort([1]))\n",
    "print(quicksort([1, 2, 3]))\n",
    "print(quicksort([3, 2, 1]))\n",
    "print(quicksort([4, 7, 2, 9, 6, 3, 1, 5, 8, 10]))"
   ]
  },
  {
   "cell_type": "markdown",
   "id": "f734a172-9d3c-43d5-9a49-f25122fb5a48",
   "metadata": {},
   "source": [
    "### Merge sort"
   ]
  },
  {
   "cell_type": "code",
   "execution_count": 197,
   "id": "e971d16b-ed20-4d19-89e6-d4fc54aea197",
   "metadata": {},
   "outputs": [
    {
     "name": "stdout",
     "output_type": "stream",
     "text": [
      "[1, 2, 3]\n",
      "[1, 2]\n",
      "[1, 1, 2, 3, 3, 4, 5]\n"
     ]
    }
   ],
   "source": [
    "def mergesort(values: list[int]) -> list[int]:\n",
    "    if len(values) < 2:\n",
    "        return values\n",
    "    half = math.ceil(len(values)/2)\n",
    "    #print(f'len(values) = {len(values)}; half = {half}')\n",
    "    left = mergesort(values[0:half])\n",
    "    right = mergesort(values[half:])\n",
    "    sorted = []\n",
    "    while len(left) > 0 or len(right) > 0:\n",
    "        # only left remaining, append remaining left\n",
    "        if len(left) > 0 and len(right) == 0:\n",
    "            sorted += left\n",
    "            break\n",
    "        # only right remaining, append remaining right\n",
    "        elif len(right) > 0 and len(left) == 0:\n",
    "            sorted += right\n",
    "            break\n",
    "        elif left[0] < right[0]:\n",
    "            sorted.append(left.pop(0))\n",
    "        else:\n",
    "            sorted.append(right.pop(0))\n",
    "            \n",
    "    return sorted\n",
    "\n",
    "print(mergesort([3, 2, 1]))\n",
    "print(mergesort([1, 2]))\n",
    "print(mergesort([1, 5, 3, 3, 4, 2, 1]))"
   ]
  },
  {
   "cell_type": "markdown",
   "id": "d5fa2bcb-99fc-4e97-bba3-111b38de10f2",
   "metadata": {},
   "source": [
    "## Chapter 5: Hash Tables"
   ]
  },
  {
   "cell_type": "markdown",
   "id": "1c30bdb6-2bf6-483d-ad20-4d9d6f26144b",
   "metadata": {},
   "source": [
    "| | Hash Tables (Average) | Hash Tables (Worst) | Arrays | Linked Lists |\n",
    "| --- | --- | --- | --- | --- |\n",
    "| Search | `O(1)` | `O(n)` | `O(1)` | `O(n)` |\n",
    "| Insert | `O(1)` | `O(n)` | `O(n)` | `O(1)` |\n",
    "| Delete | `O(1)` | `O(n)` | `O(n)` | `O(1)` |\n",
    "\n",
    "* Due to **collisions**, performance of **hash tables** isn't always **constant time**.\n",
    "* The performance of hash table depends a lot on the quality of the **hashing function**, which distribute hashes evenly and reduce the number of collisions, and the load factor\n",
    "* **Load factor** is the number of items in the hash table divided by the number of slots\n",
    "* As load factor goes up, need to resize the array supporting the hash table (rule of thumb: double the array size)"
   ]
  },
  {
   "cell_type": "markdown",
   "id": "2105ee8a-91f7-436c-86a6-c09a24863edb",
   "metadata": {},
   "source": [
    "## Chapter 6: Breadth-First Search"
   ]
  },
  {
   "cell_type": "markdown",
   "id": "5726ceff-18a8-407e-a9d8-191e74e836c1",
   "metadata": {},
   "source": [
    "* **Breadth-first search** (**BFS**) is used to solve **shortest-path problems**"
   ]
  },
  {
   "cell_type": "code",
   "execution_count": 203,
   "id": "6ac19459-4b96-4141-b32c-857fd67559bf",
   "metadata": {},
   "outputs": [],
   "source": [
    "my_graph = {('Twin Peaks', '1'), ('1', '2'), ('2', 'Golden Gate Bridge'), ('Twin Peaks', '3'), ('3', '4'), ('4', '2'), ('3', '5'), ('5', '2')}"
   ]
  },
  {
   "cell_type": "code",
   "execution_count": 209,
   "id": "5b888647-76c4-4277-872e-1016dc67419e",
   "metadata": {},
   "outputs": [
    {
     "name": "stdout",
     "output_type": "stream",
     "text": [
      "['Twin Peaks', '1', '2', 'Golden Gate Bridge']\n",
      "['2']\n",
      "None\n"
     ]
    }
   ],
   "source": [
    "def find_shortest_path(graph, starting_loc, destination) -> list:\n",
    "    # (\"location\", [how, i, got, here])\n",
    "    stack = [(starting_loc, [starting_loc])]\n",
    "\n",
    "    while len(stack) > 0:\n",
    "        current_loc, visited = stack.pop(0)\n",
    "        \n",
    "        # are we there yet?\n",
    "        if current_loc == destination:\n",
    "            return visited\n",
    "            \n",
    "        # find our neighbors\n",
    "        for next_edge in graph:\n",
    "            if next_edge[0] == current_loc:\n",
    "                next_ = (next_edge[1], [*visited, next_edge[1]])\n",
    "                stack.append(go_to)\n",
    "\n",
    "# Should exist\n",
    "print(find_shortest_path(my_graph, 'Twin Peaks', 'Golden Gate Bridge'))\n",
    "\n",
    "# Same\n",
    "print(find_shortest_path(my_graph, '2', '2'))\n",
    "\n",
    "# Unreachable\n",
    "print(find_shortest_path(my_graph, 'Golden Gate Bridge', 'Twin Peaks'))"
   ]
  },
  {
   "cell_type": "code",
   "execution_count": null,
   "id": "1c436567-c9aa-46cd-afb4-d20632ae6018",
   "metadata": {},
   "outputs": [],
   "source": []
  }
 ],
 "metadata": {
  "kernelspec": {
   "display_name": "Python 3 (ipykernel)",
   "language": "python",
   "name": "python3"
  },
  "language_info": {
   "codemirror_mode": {
    "name": "ipython",
    "version": 3
   },
   "file_extension": ".py",
   "mimetype": "text/x-python",
   "name": "python",
   "nbconvert_exporter": "python",
   "pygments_lexer": "ipython3",
   "version": "3.11.4"
  }
 },
 "nbformat": 4,
 "nbformat_minor": 5
}

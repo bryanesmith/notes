{
 "cells": [
  {
   "cell_type": "markdown",
   "id": "76f66ba2-9bbf-4fe8-9b8f-9c13f34419a8",
   "metadata": {},
   "source": [
    "# Grokking Algorithms"
   ]
  },
  {
   "cell_type": "code",
   "execution_count": 10,
   "id": "f65f3342-3a6e-4cab-bf5d-2ac5ed868db4",
   "metadata": {},
   "outputs": [],
   "source": [
    "import time"
   ]
  },
  {
   "cell_type": "markdown",
   "id": "6c39a94f-ebac-412b-952e-70150bf22db2",
   "metadata": {},
   "source": [
    "## Chapter 1 Introduction to Algorithms\n",
    "\n",
    "### Binary Search\n",
    "\n",
    "Given sorted input collection, finds a member in `O(log n)`"
   ]
  },
  {
   "cell_type": "code",
   "execution_count": 81,
   "id": "5b37d7e5-efea-4e6d-a433-4f753a0fa8e4",
   "metadata": {},
   "outputs": [],
   "source": [
    "def binary_search(haystack, needle) -> int:\n",
    "    start = 0\n",
    "    end = len(haystack) - 1\n",
    "    while True:\n",
    "        next = start + int((end - start) / 2)\n",
    "        if start > end or next >= len(haystack) or next < 0:\n",
    "            return None\n",
    "        elif haystack[next] == needle:\n",
    "            return next\n",
    "        elif haystack[next] < needle:\n",
    "            start = next + 1\n",
    "        else:\n",
    "            end = next - 1\n",
    "\n",
    "\n",
    "def assert_find(haystack, needle, expect_idx):\n",
    "    found_idx = binary_search(haystack, needle)\n",
    "    print(f'{needle} is at index: {found_idx}')\n",
    "    assert found_idx == expect_idx\n",
    "\n",
    "\n",
    "def assert_find_all(haystack):\n",
    "    for expect_idx in range(len(haystack)):\n",
    "        assert_find(haystack, haystack[expect_idx], expect_idx)"
   ]
  },
  {
   "cell_type": "code",
   "execution_count": 82,
   "id": "f1487cb2-7cad-4137-95ba-67028deb400e",
   "metadata": {},
   "outputs": [
    {
     "name": "stdout",
     "output_type": "stream",
     "text": [
      "1 is at index: 0\n",
      "3 is at index: 1\n",
      "5 is at index: 2\n",
      "7 is at index: 3\n",
      "9 is at index: 4\n",
      "11 is at index: 5\n",
      "13 is at index: 6\n",
      "15 is at index: 7\n",
      "17 is at index: 8\n",
      "19 is at index: 9\n",
      "21 is at index: 10\n",
      "23 is at index: 11\n",
      "25 is at index: 12\n",
      "27 is at index: 13\n",
      "29 is at index: 14\n",
      "31 is at index: 15\n",
      "33 is at index: 16\n",
      "35 is at index: 17\n",
      "37 is at index: 18\n",
      "39 is at index: 19\n",
      "41 is at index: 20\n",
      "43 is at index: 21\n",
      "45 is at index: 22\n",
      "47 is at index: 23\n",
      "49 is at index: 24\n",
      "51 is at index: 25\n",
      "53 is at index: 26\n",
      "55 is at index: 27\n",
      "57 is at index: 28\n",
      "59 is at index: 29\n",
      "61 is at index: 30\n",
      "63 is at index: 31\n",
      "65 is at index: 32\n",
      "67 is at index: 33\n",
      "69 is at index: 34\n",
      "71 is at index: 35\n",
      "73 is at index: 36\n",
      "75 is at index: 37\n",
      "77 is at index: 38\n",
      "79 is at index: 39\n",
      "81 is at index: 40\n",
      "83 is at index: 41\n",
      "85 is at index: 42\n",
      "87 is at index: 43\n",
      "89 is at index: 44\n",
      "91 is at index: 45\n",
      "93 is at index: 46\n",
      "95 is at index: 47\n",
      "97 is at index: 48\n",
      "99 is at index: 49\n",
      "712 is at index: None\n",
      "1001 is at index: None\n",
      "-123 is at index: None\n"
     ]
    }
   ],
   "source": [
    "haystack = list(range(1, 100, 2)) # odd numbers [1, 3, 5, ..., 99]\n",
    "\n",
    "# Should find\n",
    "assert_find_all(haystack)\n",
    "\n",
    "# Shouldn't find\n",
    "find(712)\n",
    "find(1001)\n",
    "find(-123)"
   ]
  },
  {
   "cell_type": "code",
   "execution_count": 83,
   "id": "6c02399c-f5b3-4e67-b641-47a1b0e4363b",
   "metadata": {},
   "outputs": [
    {
     "name": "stdout",
     "output_type": "stream",
     "text": [
      "Alice is at index: 0\n",
      "Bob is at index: 1\n",
      "Cartman is at index: 2\n",
      "Danielle is at index: 3\n",
      "Sally is at index: None\n"
     ]
    }
   ],
   "source": [
    "haystack = ('Alice', 'Bob', 'Cartman', 'Danielle')\n",
    "\n",
    "# Should find\n",
    "assert_find_all(haystack)\n",
    "\n",
    "# Shouldn't find\n",
    "find('Sally')"
   ]
  },
  {
   "cell_type": "code",
   "execution_count": null,
   "id": "12a5d5ec-ce4c-4356-9950-01c581a1b458",
   "metadata": {},
   "outputs": [],
   "source": []
  }
 ],
 "metadata": {
  "kernelspec": {
   "display_name": "Python 3 (ipykernel)",
   "language": "python",
   "name": "python3"
  },
  "language_info": {
   "codemirror_mode": {
    "name": "ipython",
    "version": 3
   },
   "file_extension": ".py",
   "mimetype": "text/x-python",
   "name": "python",
   "nbconvert_exporter": "python",
   "pygments_lexer": "ipython3",
   "version": "3.11.4"
  }
 },
 "nbformat": 4,
 "nbformat_minor": 5
}
